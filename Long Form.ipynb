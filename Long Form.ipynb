{
 "cells": [
  {
   "cell_type": "code",
   "execution_count": 114,
   "metadata": {},
   "outputs": [
    {
     "data": {
      "application/javascript": [
       "if (!(\"Notification\" in window)) {\n",
       "    alert(\"This browser does not support desktop notifications, so the %%notify magic will not work.\");\n",
       "} else if (Notification.permission !== 'granted' && Notification.permission !== 'denied') {\n",
       "    Notification.requestPermission(function (permission) {\n",
       "        if(!('permission' in Notification)) {\n",
       "            Notification.permission = permission;\n",
       "        }\n",
       "    })\n",
       "}\n"
      ],
      "text/plain": [
       "<IPython.core.display.Javascript object>"
      ]
     },
     "metadata": {},
     "output_type": "display_data"
    }
   ],
   "source": [
    "import numpy as np\n",
    "import pandas as pd\n",
    "import matplotlib.pyplot as plt\n",
    "import pickle\n",
    "import csv\n",
    "from collections import Counter \n",
    "from collections import *\n",
    "import math\n",
    "%load_ext jupyternotify"
   ]
  },
  {
   "cell_type": "code",
   "execution_count": 113,
   "metadata": {},
   "outputs": [
    {
     "name": "stdout",
     "output_type": "stream",
     "text": [
      "Collecting jupyternotify\n",
      "  Downloading jupyternotify-0.1.15.tar.gz (7.2 kB)\n",
      "Requirement already satisfied: ipython in /usr/local/lib/python3.8/site-packages (from jupyternotify) (7.16.1)\n",
      "Requirement already satisfied: jupyter in /usr/local/lib/python3.8/site-packages (from jupyternotify) (1.0.0)\n",
      "Requirement already satisfied: traitlets>=4.2 in /usr/local/lib/python3.8/site-packages (from ipython->jupyternotify) (4.3.3)\n",
      "Requirement already satisfied: appnope; sys_platform == \"darwin\" in /usr/local/lib/python3.8/site-packages (from ipython->jupyternotify) (0.1.0)\n",
      "Requirement already satisfied: jedi>=0.10 in /usr/local/lib/python3.8/site-packages (from ipython->jupyternotify) (0.17.1)\n",
      "Requirement already satisfied: backcall in /usr/local/lib/python3.8/site-packages (from ipython->jupyternotify) (0.2.0)\n",
      "Requirement already satisfied: decorator in /usr/local/lib/python3.8/site-packages (from ipython->jupyternotify) (4.4.2)\n",
      "Requirement already satisfied: prompt-toolkit!=3.0.0,!=3.0.1,<3.1.0,>=2.0.0 in /usr/local/lib/python3.8/site-packages (from ipython->jupyternotify) (3.0.5)\n",
      "Requirement already satisfied: pygments in /usr/local/lib/python3.8/site-packages (from ipython->jupyternotify) (2.6.1)\n",
      "Requirement already satisfied: pickleshare in /usr/local/lib/python3.8/site-packages (from ipython->jupyternotify) (0.7.5)\n",
      "Requirement already satisfied: setuptools>=18.5 in /usr/local/lib/python3.8/site-packages (from ipython->jupyternotify) (49.2.0)\n",
      "Requirement already satisfied: pexpect; sys_platform != \"win32\" in /usr/local/lib/python3.8/site-packages (from ipython->jupyternotify) (4.8.0)\n",
      "Requirement already satisfied: qtconsole in /usr/local/lib/python3.8/site-packages (from jupyter->jupyternotify) (4.7.5)\n",
      "Requirement already satisfied: ipywidgets in /usr/local/lib/python3.8/site-packages (from jupyter->jupyternotify) (7.5.1)\n",
      "Requirement already satisfied: notebook in /usr/local/lib/python3.8/site-packages (from jupyter->jupyternotify) (6.0.3)\n",
      "Requirement already satisfied: nbconvert in /usr/local/lib/python3.8/site-packages (from jupyter->jupyternotify) (5.6.1)\n",
      "Requirement already satisfied: ipykernel in /usr/local/lib/python3.8/site-packages (from jupyter->jupyternotify) (5.3.2)\n",
      "Requirement already satisfied: jupyter-console in /usr/local/lib/python3.8/site-packages (from jupyter->jupyternotify) (6.1.0)\n",
      "Requirement already satisfied: ipython-genutils in /usr/local/lib/python3.8/site-packages (from traitlets>=4.2->ipython->jupyternotify) (0.2.0)\n",
      "Requirement already satisfied: six in /usr/local/lib/python3.8/site-packages (from traitlets>=4.2->ipython->jupyternotify) (1.15.0)\n",
      "Requirement already satisfied: parso<0.8.0,>=0.7.0 in /usr/local/lib/python3.8/site-packages (from jedi>=0.10->ipython->jupyternotify) (0.7.0)\n",
      "Requirement already satisfied: wcwidth in /usr/local/lib/python3.8/site-packages (from prompt-toolkit!=3.0.0,!=3.0.1,<3.1.0,>=2.0.0->ipython->jupyternotify) (0.2.5)\n",
      "Requirement already satisfied: ptyprocess>=0.5 in /usr/local/lib/python3.8/site-packages (from pexpect; sys_platform != \"win32\"->ipython->jupyternotify) (0.6.0)\n",
      "Requirement already satisfied: jupyter-client>=4.1 in /usr/local/lib/python3.8/site-packages (from qtconsole->jupyter->jupyternotify) (6.1.6)\n",
      "Requirement already satisfied: jupyter-core in /usr/local/lib/python3.8/site-packages (from qtconsole->jupyter->jupyternotify) (4.6.3)\n",
      "Requirement already satisfied: qtpy in /usr/local/lib/python3.8/site-packages (from qtconsole->jupyter->jupyternotify) (1.9.0)\n",
      "Requirement already satisfied: pyzmq>=17.1 in /usr/local/lib/python3.8/site-packages (from qtconsole->jupyter->jupyternotify) (19.0.1)\n",
      "Requirement already satisfied: widgetsnbextension~=3.5.0 in /usr/local/lib/python3.8/site-packages (from ipywidgets->jupyter->jupyternotify) (3.5.1)\n",
      "Requirement already satisfied: nbformat>=4.2.0 in /usr/local/lib/python3.8/site-packages (from ipywidgets->jupyter->jupyternotify) (5.0.7)\n",
      "Requirement already satisfied: tornado>=5.0 in /usr/local/lib/python3.8/site-packages (from notebook->jupyter->jupyternotify) (6.0.4)\n",
      "Requirement already satisfied: Send2Trash in /usr/local/lib/python3.8/site-packages (from notebook->jupyter->jupyternotify) (1.5.0)\n",
      "Requirement already satisfied: jinja2 in /usr/local/lib/python3.8/site-packages (from notebook->jupyter->jupyternotify) (2.11.2)\n",
      "Requirement already satisfied: prometheus-client in /usr/local/lib/python3.8/site-packages (from notebook->jupyter->jupyternotify) (0.8.0)\n",
      "Requirement already satisfied: terminado>=0.8.1 in /usr/local/lib/python3.8/site-packages (from notebook->jupyter->jupyternotify) (0.8.3)\n",
      "Requirement already satisfied: testpath in /usr/local/lib/python3.8/site-packages (from nbconvert->jupyter->jupyternotify) (0.4.4)\n",
      "Requirement already satisfied: defusedxml in /usr/local/lib/python3.8/site-packages (from nbconvert->jupyter->jupyternotify) (0.6.0)\n",
      "Requirement already satisfied: entrypoints>=0.2.2 in /usr/local/lib/python3.8/site-packages (from nbconvert->jupyter->jupyternotify) (0.3)\n",
      "Requirement already satisfied: pandocfilters>=1.4.1 in /usr/local/lib/python3.8/site-packages (from nbconvert->jupyter->jupyternotify) (1.4.2)\n",
      "Requirement already satisfied: mistune<2,>=0.8.1 in /usr/local/lib/python3.8/site-packages (from nbconvert->jupyter->jupyternotify) (0.8.4)\n",
      "Requirement already satisfied: bleach in /usr/local/lib/python3.8/site-packages (from nbconvert->jupyter->jupyternotify) (3.1.5)\n",
      "Requirement already satisfied: python-dateutil>=2.1 in /usr/local/lib/python3.8/site-packages (from jupyter-client>=4.1->qtconsole->jupyter->jupyternotify) (2.8.1)\n",
      "Requirement already satisfied: jsonschema!=2.5.0,>=2.4 in /usr/local/lib/python3.8/site-packages (from nbformat>=4.2.0->ipywidgets->jupyter->jupyternotify) (3.2.0)\n",
      "Requirement already satisfied: MarkupSafe>=0.23 in /usr/local/lib/python3.8/site-packages (from jinja2->notebook->jupyter->jupyternotify) (1.1.1)\n",
      "Requirement already satisfied: packaging in /usr/local/lib/python3.8/site-packages (from bleach->nbconvert->jupyter->jupyternotify) (20.4)\n",
      "Requirement already satisfied: webencodings in /usr/local/lib/python3.8/site-packages (from bleach->nbconvert->jupyter->jupyternotify) (0.5.1)\n",
      "Requirement already satisfied: attrs>=17.4.0 in /usr/local/lib/python3.8/site-packages (from jsonschema!=2.5.0,>=2.4->nbformat>=4.2.0->ipywidgets->jupyter->jupyternotify) (19.3.0)\n",
      "Requirement already satisfied: pyrsistent>=0.14.0 in /usr/local/lib/python3.8/site-packages (from jsonschema!=2.5.0,>=2.4->nbformat>=4.2.0->ipywidgets->jupyter->jupyternotify) (0.16.0)\n",
      "Requirement already satisfied: pyparsing>=2.0.2 in /usr/local/lib/python3.8/site-packages (from packaging->bleach->nbconvert->jupyter->jupyternotify) (2.4.7)\n",
      "Building wheels for collected packages: jupyternotify\n",
      "  Building wheel for jupyternotify (setup.py) ... \u001b[?25ldone\n",
      "\u001b[?25h  Created wheel for jupyternotify: filename=jupyternotify-0.1.15-py3-none-any.whl size=8720 sha256=b9819095f41b45c3f0292a91c36f6e86fa2949838a456999a520d6d5b7be9d44\n",
      "  Stored in directory: /Users/compmusic/Library/Caches/pip/wheels/2d/ff/e5/bced088d6443a70f72ee86f9e46f11056c981100c2d3cfadfb\n",
      "Successfully built jupyternotify\n",
      "Installing collected packages: jupyternotify\n",
      "Successfully installed jupyternotify-0.1.15\n"
     ]
    }
   ],
   "source": [
    "!pip3 install jupyternotify"
   ]
  },
  {
   "cell_type": "markdown",
   "metadata": {},
   "source": [
    "# Import Data from Google Sheets}"
   ]
  },
  {
   "cell_type": "code",
   "execution_count": 2,
   "metadata": {},
   "outputs": [],
   "source": [
    "from __future__ import print_function\n",
    "import pickle\n",
    "import os.path\n",
    "from googleapiclient.discovery import build\n",
    "from google_auth_oauthlib.flow import InstalledAppFlow\n",
    "from google.auth.transport.requests import Request"
   ]
  },
  {
   "cell_type": "code",
   "execution_count": 3,
   "metadata": {},
   "outputs": [],
   "source": [
    "SCOPES = ['https://www.googleapis.com/auth/spreadsheets.readonly']\n",
    "\n",
    "# Reference: https://developers.google.com/sheets/api/quickstart/python\n",
    "def read_google_sheets(SPREADSHEET_ID, RANGE_NAME, HEADER_RANGE):\n",
    "    creds = None\n",
    "    # autogenerated\n",
    "    if os.path.exists('token.pickle'):\n",
    "        with open('token.pickle', 'rb') as token:\n",
    "            creds = pickle.load(token)\n",
    "    if not creds or not creds.valid:\n",
    "        if creds and creds.expired and creds.refresh_token:\n",
    "            creds.refresh(Request())\n",
    "        else:\n",
    "            flow = InstalledAppFlow.from_client_secrets_file(\n",
    "                'credentials.json', SCOPES)\n",
    "            creds = flow.run_local_server(port=0)\n",
    "        with open('token.pickle', 'wb') as token:\n",
    "            pickle.dump(creds, token)\n",
    "\n",
    "    service = build('sheets', 'v4', credentials=creds)\n",
    "\n",
    "    sheet = service.spreadsheets()\n",
    "    result = sheet.values().get(spreadsheetId=SPREADSHEET_ID,\n",
    "                                range=RANGE_NAME).execute()\n",
    "    \n",
    "    header = sheet.values().get(spreadsheetId=SPREADSHEET_ID,\n",
    "                               range=HEADER_RANGE).execute()\n",
    "    \n",
    "    header_values = header.get('values', [])\n",
    "    values = result.get('values', [])\n",
    "    \n",
    "    return values, header_values"
   ]
  },
  {
   "cell_type": "code",
   "execution_count": 4,
   "metadata": {},
   "outputs": [],
   "source": [
    "SPREADSHEET_ID = '1AjynK9mMQTw58B_B8b_ZIip3fyUm-aoV7Pp21HziBb0'\n",
    "RANGE_NAME = 'canto_codings!A2:AT'\n",
    "HEADER_RANGE = 'canto_codings!A1:AT1'\n",
    "\n",
    "data, header = read_google_sheets(SPREADSHEET_ID, RANGE_NAME, HEADER_RANGE)\n",
    "\n",
    "df = pd.DataFrame(data, columns = header[0])"
   ]
  },
  {
   "cell_type": "code",
   "execution_count": 5,
   "metadata": {},
   "outputs": [
    {
     "data": {
      "text/html": [
       "<div>\n",
       "<style scoped>\n",
       "    .dataframe tbody tr th:only-of-type {\n",
       "        vertical-align: middle;\n",
       "    }\n",
       "\n",
       "    .dataframe tbody tr th {\n",
       "        vertical-align: top;\n",
       "    }\n",
       "\n",
       "    .dataframe thead th {\n",
       "        text-align: right;\n",
       "    }\n",
       "</style>\n",
       "<table border=\"1\" class=\"dataframe\">\n",
       "  <thead>\n",
       "    <tr style=\"text-align: right;\">\n",
       "      <th></th>\n",
       "      <th>canto_coding_id</th>\n",
       "      <th>Culture</th>\n",
       "      <th>C_cid</th>\n",
       "      <th>cv_1</th>\n",
       "      <th>cv_2</th>\n",
       "      <th>cv_3</th>\n",
       "      <th>cv_4</th>\n",
       "      <th>cv_5</th>\n",
       "      <th>cv_6</th>\n",
       "      <th>cv_7</th>\n",
       "      <th>...</th>\n",
       "      <th>cv_34</th>\n",
       "      <th>cv_35</th>\n",
       "      <th>cv_36</th>\n",
       "      <th>cv_37</th>\n",
       "      <th>orv_1</th>\n",
       "      <th>orv_2</th>\n",
       "      <th>ensemble_value_id</th>\n",
       "      <th>ensemble_value_label</th>\n",
       "      <th>instrument_value_id</th>\n",
       "      <th>instrument_value_label</th>\n",
       "    </tr>\n",
       "  </thead>\n",
       "  <tbody>\n",
       "    <tr>\n",
       "      <th>0</th>\n",
       "      <td>1</td>\n",
       "      <td>South Jakarta</td>\n",
       "      <td>17557</td>\n",
       "      <td>4</td>\n",
       "      <td>512</td>\n",
       "      <td>64</td>\n",
       "      <td>16</td>\n",
       "      <td>2</td>\n",
       "      <td>2</td>\n",
       "      <td>9216</td>\n",
       "      <td>...</td>\n",
       "      <td>16</td>\n",
       "      <td>16</td>\n",
       "      <td>128</td>\n",
       "      <td>16</td>\n",
       "      <td>1</td>\n",
       "      <td>6</td>\n",
       "      <td>1</td>\n",
       "      <td>All singers play instruments</td>\n",
       "      <td>6</td>\n",
       "      <td>5 kinds of instruments</td>\n",
       "    </tr>\n",
       "    <tr>\n",
       "      <th>1</th>\n",
       "      <td>2</td>\n",
       "      <td>Balinese</td>\n",
       "      <td>11507</td>\n",
       "      <td>4</td>\n",
       "      <td>2</td>\n",
       "      <td>2</td>\n",
       "      <td>16</td>\n",
       "      <td>2</td>\n",
       "      <td>2</td>\n",
       "      <td>2</td>\n",
       "      <td>...</td>\n",
       "      <td>2</td>\n",
       "      <td>2</td>\n",
       "      <td>128</td>\n",
       "      <td>16</td>\n",
       "      <td>1</td>\n",
       "      <td>0</td>\n",
       "      <td>null</td>\n",
       "      <td></td>\n",
       "      <td>null</td>\n",
       "      <td>None</td>\n",
       "    </tr>\n",
       "    <tr>\n",
       "      <th>2</th>\n",
       "      <td>3</td>\n",
       "      <td>Balinese</td>\n",
       "      <td>11507</td>\n",
       "      <td>512</td>\n",
       "      <td>8</td>\n",
       "      <td>64</td>\n",
       "      <td>128</td>\n",
       "      <td>16</td>\n",
       "      <td>128</td>\n",
       "      <td>8192</td>\n",
       "      <td>...</td>\n",
       "      <td>16</td>\n",
       "      <td>16</td>\n",
       "      <td>2</td>\n",
       "      <td>128</td>\n",
       "      <td>7</td>\n",
       "      <td>3</td>\n",
       "      <td>1</td>\n",
       "      <td>All singers play instruments</td>\n",
       "      <td>3</td>\n",
       "      <td>2 kinds of instruments</td>\n",
       "    </tr>\n",
       "    <tr>\n",
       "      <th>3</th>\n",
       "      <td>4</td>\n",
       "      <td>Balinese</td>\n",
       "      <td>11507</td>\n",
       "      <td>4096</td>\n",
       "      <td>4096</td>\n",
       "      <td>4096</td>\n",
       "      <td>128</td>\n",
       "      <td>128</td>\n",
       "      <td>8192</td>\n",
       "      <td>8192</td>\n",
       "      <td>...</td>\n",
       "      <td>16</td>\n",
       "      <td>2</td>\n",
       "      <td>1024</td>\n",
       "      <td>16</td>\n",
       "      <td>7</td>\n",
       "      <td>3</td>\n",
       "      <td>1</td>\n",
       "      <td>All singers play instruments</td>\n",
       "      <td>1</td>\n",
       "      <td>No instruments</td>\n",
       "    </tr>\n",
       "    <tr>\n",
       "      <th>4</th>\n",
       "      <td>5</td>\n",
       "      <td>Sama</td>\n",
       "      <td>62459</td>\n",
       "      <td>4</td>\n",
       "      <td>256</td>\n",
       "      <td>4</td>\n",
       "      <td>16</td>\n",
       "      <td>2</td>\n",
       "      <td>2</td>\n",
       "      <td>16</td>\n",
       "      <td>...</td>\n",
       "      <td>16</td>\n",
       "      <td>16</td>\n",
       "      <td>128</td>\n",
       "      <td>16</td>\n",
       "      <td>1</td>\n",
       "      <td>1</td>\n",
       "      <td>null</td>\n",
       "      <td></td>\n",
       "      <td>1</td>\n",
       "      <td>No instruments</td>\n",
       "    </tr>\n",
       "  </tbody>\n",
       "</table>\n",
       "<p>5 rows × 46 columns</p>\n",
       "</div>"
      ],
      "text/plain": [
       "  canto_coding_id        Culture  C_cid  cv_1  cv_2  cv_3 cv_4 cv_5  cv_6  \\\n",
       "0               1  South Jakarta  17557     4   512    64   16    2     2   \n",
       "1               2       Balinese  11507     4     2     2   16    2     2   \n",
       "2               3       Balinese  11507   512     8    64  128   16   128   \n",
       "3               4       Balinese  11507  4096  4096  4096  128  128  8192   \n",
       "4               5           Sama  62459     4   256     4   16    2     2   \n",
       "\n",
       "   cv_7  ... cv_34 cv_35 cv_36 cv_37 orv_1 orv_2 ensemble_value_id  \\\n",
       "0  9216  ...    16    16   128    16     1     6                 1   \n",
       "1     2  ...     2     2   128    16     1     0              null   \n",
       "2  8192  ...    16    16     2   128     7     3                 1   \n",
       "3  8192  ...    16     2  1024    16     7     3                 1   \n",
       "4    16  ...    16    16   128    16     1     1              null   \n",
       "\n",
       "           ensemble_value_label instrument_value_id  instrument_value_label  \n",
       "0  All singers play instruments                   6  5 kinds of instruments  \n",
       "1                                              null                    None  \n",
       "2  All singers play instruments                   3  2 kinds of instruments  \n",
       "3  All singers play instruments                   1          No instruments  \n",
       "4                                                 1          No instruments  \n",
       "\n",
       "[5 rows x 46 columns]"
      ]
     },
     "execution_count": 5,
     "metadata": {},
     "output_type": "execute_result"
    }
   ],
   "source": [
    "df.head()"
   ]
  },
  {
   "cell_type": "code",
   "execution_count": 98,
   "metadata": {},
   "outputs": [],
   "source": [
    "columns = ['index','soc_id', 'canto_coding_id', 'var_id', 'code']\n",
    "long_form = pd.DataFrame(columns = columns)"
   ]
  },
  {
   "cell_type": "code",
   "execution_count": 116,
   "metadata": {},
   "outputs": [],
   "source": [
    "df_1 = df[:1000]\n",
    "df_2 = df[1000:2000]\n",
    "df_3 = df[2000:3000]\n",
    "df_4 = df[3000:4000]\n",
    "df_5 = df[4000:]"
   ]
  },
  {
   "cell_type": "code",
   "execution_count": 105,
   "metadata": {},
   "outputs": [],
   "source": [
    "def convert_matrix(input_matrix):\n",
    "    index = 0\n",
    "    output_matrix = pd.DataFrame(columns = columns)\n",
    "    for i, row in input_matrix.iterrows():\n",
    "        canto_coding_id = row['canto_coding_id']\n",
    "        soc_id = row['C_cid']\n",
    "        for j in range(37):\n",
    "            var_id = j+1\n",
    "            code = row['cv_'+str(var_id)]\n",
    "            index +=1\n",
    "            new_row = pd.DataFrame([[int(index),soc_id, int(canto_coding_id), int(var_id), int(code)]], columns=columns)\n",
    "            output_matrix = output_matrix.append(new_row)\n",
    "    return output_matrix"
   ]
  },
  {
   "cell_type": "code",
   "execution_count": 106,
   "metadata": {},
   "outputs": [],
   "source": [
    "long_form = long_form.append(convert_matrix(df_1))"
   ]
  },
  {
   "cell_type": "code",
   "execution_count": 108,
   "metadata": {},
   "outputs": [],
   "source": [
    "long_form = long_form.append(convert_matrix(df_2))"
   ]
  },
  {
   "cell_type": "code",
   "execution_count": 110,
   "metadata": {},
   "outputs": [],
   "source": [
    "long_form = long_form.append(convert_matrix(df_3))"
   ]
  },
  {
   "cell_type": "code",
   "execution_count": 115,
   "metadata": {},
   "outputs": [],
   "source": [
    "long_form = long_form.append(convert_matrix(df_4))"
   ]
  },
  {
   "cell_type": "code",
   "execution_count": 117,
   "metadata": {},
   "outputs": [],
   "source": [
    "long_form = long_form.append(convert_matrix(df_5))"
   ]
  },
  {
   "cell_type": "code",
   "execution_count": 121,
   "metadata": {
    "scrolled": false
   },
   "outputs": [],
   "source": [
    "long_form = long_form.drop(['index'], axis=1)"
   ]
  },
  {
   "cell_type": "code",
   "execution_count": 122,
   "metadata": {},
   "outputs": [],
   "source": [
    "long_form.to_csv('long_form.csv')"
   ]
  },
  {
   "cell_type": "code",
   "execution_count": null,
   "metadata": {},
   "outputs": [],
   "source": []
  }
 ],
 "metadata": {
  "kernelspec": {
   "display_name": "Python 3",
   "language": "python",
   "name": "python3"
  },
  "language_info": {
   "codemirror_mode": {
    "name": "ipython",
    "version": 3
   },
   "file_extension": ".py",
   "mimetype": "text/x-python",
   "name": "python",
   "nbconvert_exporter": "python",
   "pygments_lexer": "ipython3",
   "version": "3.8.4"
  }
 },
 "nbformat": 4,
 "nbformat_minor": 4
}
