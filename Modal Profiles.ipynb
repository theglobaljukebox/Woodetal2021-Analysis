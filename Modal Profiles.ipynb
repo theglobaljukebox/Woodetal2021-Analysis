{
 "cells": [
  {
   "cell_type": "code",
   "execution_count": 1,
   "metadata": {},
   "outputs": [],
   "source": [
    "# TODO: monophony unison and polyphony distinct.\n",
    "# heterophony-make it look similar to polyphony (3 different colors r,b,o)\n",
    "# Nasality and Vocal Width."
   ]
  },
  {
   "cell_type": "code",
   "execution_count": 1,
   "metadata": {},
   "outputs": [],
   "source": [
    "import pandas as pd\n",
    "import matplotlib.pyplot as plt\n",
    "\n",
    "%matplotlib inline"
   ]
  },
  {
   "cell_type": "markdown",
   "metadata": {},
   "source": [
    "## Read the data"
   ]
  },
  {
   "cell_type": "code",
   "execution_count": 2,
   "metadata": {},
   "outputs": [],
   "source": [
    "modal_profiles = pd.read_csv('./output/modal_profiles.csv')\n",
    "\n",
    "x,y = ([] for i in range(2))\n",
    "for i, row in modal_profiles['lat'].iteritems():\n",
    "    try:\n",
    "        if row =='19,27':\n",
    "            y.append(19.27)\n",
    "        elif row == ' ':\n",
    "            y.append(40.7410861)\n",
    "        else:\n",
    "            y.append(float(row))\n",
    "    except ValueError as e:\n",
    "        print(i, e)\n",
    "for i, row in modal_profiles['lng'].iteritems():\n",
    "    x.append(float(row))"
   ]
  },
  {
   "cell_type": "code",
   "execution_count": 14,
   "metadata": {},
   "outputs": [],
   "source": [
    "modal_profiles = modal_profiles.drop(columns=[\"Unnamed: 0\"])"
   ]
  },
  {
   "cell_type": "code",
   "execution_count": 53,
   "metadata": {},
   "outputs": [],
   "source": [
    "line_metadata =  pd.read_csv('./data/line_metadata.csv')\n",
    "line_metadata = line_metadata.drop(columns='linenum')"
   ]
  },
  {
   "cell_type": "markdown",
   "metadata": {},
   "source": [
    "## Plot the data"
   ]
  },
  {
   "cell_type": "code",
   "execution_count": 18,
   "metadata": {},
   "outputs": [],
   "source": [
    "import cartopy.crs as ccrs\n",
    "import cartopy.feature as cfeature"
   ]
  },
  {
   "cell_type": "code",
   "execution_count": 46,
   "metadata": {},
   "outputs": [],
   "source": [
    "def plot_map(linenum, vname):\n",
    "    column_name = 'cv_'+str(linenum)\n",
    "    line_title = 'Cantometrics Line '+str(linenum)\n",
    "    variable_name = vname\n",
    "    filename = './figs/'+vname.lower()+'.png'\n",
    "\n",
    "    fig = plt.figure(figsize=(30,15))\n",
    "    ax = fig.add_subplot(1,1,1,projection=ccrs.PlateCarree())\n",
    "    ax.set_global()\n",
    "    ax.coastlines(alpha=.5, color=\"#B4B4B4\")\n",
    "    ax.text(-175, -70, line_title, fontsize=42, fontfamily=\"Roboto\", color=\"Black\")\n",
    "    ax.text(-175, -78, variable_name, fontsize=28, fontfamily=\"Roboto\", color=\"Black\")\n",
    "    scatter = ax.scatter(x,  y,\n",
    "               c=modal_profiles[column_name], \n",
    "               cmap=\"coolwarm_r\", \n",
    "               alpha=1,\n",
    "               marker='o')\n",
    "    ax.add_feature(cfeature.OCEAN, alpha=.6, color=\"#C0E0E6\") \n",
    "    legend1 = ax.legend(*scatter.legend_elements(),\n",
    "                        loc=\"upper left\", title=\"Legend\")\n",
    "    ax.add_artist(legend1)\n",
    "    plt.savefig(filename)"
   ]
  },
  {
   "cell_type": "code",
   "execution_count": null,
   "metadata": {},
   "outputs": [],
   "source": []
  }
 ],
 "metadata": {
  "kernelspec": {
   "display_name": "Python 3",
   "language": "python",
   "name": "python3"
  },
  "language_info": {
   "codemirror_mode": {
    "name": "ipython",
    "version": 3
   },
   "file_extension": ".py",
   "mimetype": "text/x-python",
   "name": "python",
   "nbconvert_exporter": "python",
   "pygments_lexer": "ipython3",
   "version": "3.8.4"
  }
 },
 "nbformat": 4,
 "nbformat_minor": 4
}