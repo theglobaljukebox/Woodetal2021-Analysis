{
 "cells": [
  {
   "cell_type": "code",
   "execution_count": 18,
   "metadata": {},
   "outputs": [
    {
     "data": {
      "application/javascript": [
       "if (!(\"Notification\" in window)) {\n",
       "    alert(\"This browser does not support desktop notifications, so the %%notify magic will not work.\");\n",
       "} else if (Notification.permission !== 'granted' && Notification.permission !== 'denied') {\n",
       "    Notification.requestPermission(function (permission) {\n",
       "        if(!('permission' in Notification)) {\n",
       "            Notification.permission = permission;\n",
       "        }\n",
       "    })\n",
       "}\n"
      ],
      "text/plain": [
       "<IPython.core.display.Javascript object>"
      ]
     },
     "metadata": {},
     "output_type": "display_data"
    }
   ],
   "source": [
    "import csv\n",
    "import pandas as pd\n",
    "import json\n",
    "import numpy as np\n",
    "import matplotlib.pyplot as plt\n",
    "from collections import Counter\n",
    "from collections import *\n",
    "import math\n",
    "%load_ext jupyternotify"
   ]
  },
  {
   "cell_type": "code",
   "execution_count": 30,
   "metadata": {},
   "outputs": [],
   "source": [
    "canto_data = pd.read_csv('./data/full_cantometrics.csv').drop(columns=['Unnamed: 0'])"
   ]
  },
  {
   "cell_type": "code",
   "execution_count": 36,
   "metadata": {
    "pycharm": {
     "name": "#%%\n"
    }
   },
   "outputs": [],
   "source": [
    "# canto_data = pd.read_csv('./output/full_cantometrics.csv')\n",
    "features = ['line_'+str(i+1)for i in range(37)]\n",
    "cultures = canto_data['Preferred_name'].unique()\n",
    "columns = ['Preferred_name', 'soc_id']\n",
    "for feature in features:\n",
    "    columns.append(feature)"
   ]
  },
  {
   "cell_type": "code",
   "execution_count": 38,
   "metadata": {
    "pycharm": {
     "name": "#%%\n"
    }
   },
   "outputs": [
    {
     "data": {
      "application/javascript": [
       "$(document).ready(\n",
       "    function() {\n",
       "        function appendUniqueDiv(){\n",
       "            // append a div with our uuid so we can check that it's already\n",
       "            // been sent and avoid duplicates on page reload\n",
       "            var notifiedDiv = document.createElement(\"div\")\n",
       "            notifiedDiv.id = \"29774cbb-05db-46e1-be58-891fa6df4e77\"\n",
       "            element.append(notifiedDiv)\n",
       "        }\n",
       "\n",
       "        // only send notifications if the pageload is complete; this will\n",
       "        // help stop extra notifications when a saved notebook is loaded,\n",
       "        // which during testing gives us state \"interactive\", not \"complete\"\n",
       "        if (document.readyState === 'complete') {\n",
       "            // check for the div that signifies that the notification\n",
       "            // was already sent\n",
       "            if (document.getElementById(\"29774cbb-05db-46e1-be58-891fa6df4e77\") === null) {\n",
       "                var notificationPayload = {\"requireInteraction\": false, \"icon\": \"/static/base/images/favicon.ico\", \"body\": \"final matrix imputed\"};\n",
       "                if (Notification.permission !== 'denied') {\n",
       "                    if (Notification.permission !== 'granted') { \n",
       "                        Notification.requestPermission(function (permission) {\n",
       "                            if(!('permission' in Notification)) {\n",
       "                                Notification.permission = permission\n",
       "                            }\n",
       "                        })\n",
       "                    }\n",
       "                    if (Notification.permission === 'granted') {\n",
       "                    var notification = new Notification(\"Jupyter Notebook\", notificationPayload)\n",
       "                    appendUniqueDiv()\n",
       "                    notification.onclick = function () {\n",
       "                        window.focus();\n",
       "                        this.close();\n",
       "                        };\n",
       "                    } \n",
       "                }     \n",
       "            }\n",
       "        }\n",
       "    }\n",
       ")\n"
      ],
      "text/plain": [
       "<IPython.core.display.Javascript object>"
      ]
     },
     "metadata": {},
     "output_type": "display_data"
    }
   ],
   "source": [
    "%%notify -m \"final matrix imputed\"\n",
    "final_df = pd.DataFrame(columns = columns)\n",
    "for culture in cultures:\n",
    "    modal_profile = dict(canto_data[canto_data['Preferred_name']==culture][features].mode().loc[0])\n",
    "    modal_profile['Preferred_name'] = culture\n",
    "    soc_id = canto_data[canto_data['Preferred_name']==culture]['society_id'].reset_index()['society_id'][0]\n",
    "    modal_profile['soc_id'] = soc_id\n",
    "    final_df = final_df.append(modal_profile, ignore_index=True)"
   ]
  },
  {
   "cell_type": "code",
   "execution_count": 41,
   "metadata": {},
   "outputs": [],
   "source": [
    "metadata = pd.read_csv('./data/metadata.csv')"
   ]
  },
  {
   "cell_type": "code",
   "execution_count": 64,
   "metadata": {},
   "outputs": [],
   "source": [
    "for i, row in final_df.iterrows():\n",
    "    culture = row['Preferred_name']\n",
    "    try:\n",
    "        lat = metadata[metadata['Preferred_name']==culture].reset_index()['Local_latitude'][0]\n",
    "        lng = metadata[metadata['Preferred_name']==culture].reset_index()['Local_longitude'][0]\n",
    "    except:\n",
    "        final_df.drop([i])\n",
    "    final_df.loc[i, ['lat']] = lat\n",
    "    final_df.loc[i, ['lng']] = lng"
   ]
  },
  {
   "cell_type": "code",
   "execution_count": 66,
   "metadata": {
    "pycharm": {
     "name": "#%%\n"
    }
   },
   "outputs": [],
   "source": [
    "final_df.to_csv('././output/modal_profiles.csv')"
   ]
  },
  {
   "cell_type": "markdown",
   "metadata": {},
   "source": [
    "## Modal Profiles without multi-codings"
   ]
  },
  {
   "cell_type": "code",
   "execution_count": 110,
   "metadata": {},
   "outputs": [],
   "source": [
    "downloaded_data = pd.read_csv('./data/downloaded_data.csv')"
   ]
  },
  {
   "cell_type": "code",
   "execution_count": 111,
   "metadata": {},
   "outputs": [],
   "source": [
    "# Load conversion guide\n",
    "with open('./data/conversion_guide.json') as f:\n",
    "  conversion_guide = json.load(f)\n",
    "\n",
    "df = downloaded_data.drop(columns=['orv_1', 'orv_2', 'ensemble_value_id',\n",
    "       'ensemble_value_label', 'instrument_value_id',\n",
    "       'instrument_value_label','Unnamed: 0'])\n",
    "\n",
    "feature_cols = [\"line_\"+str(i+1) for i in range(37)]"
   ]
  },
  {
   "cell_type": "code",
   "execution_count": 135,
   "metadata": {},
   "outputs": [],
   "source": [
    "def convert(input_matrix, i):\n",
    "    for col, row in input_matrix.items():\n",
    "        if col in feature_cols:\n",
    "            for item in conversion_guide[col]:\n",
    "                if int(item[\"code\"])==int(row[i]):\n",
    "                    soc_id = input_matrix.loc[i, \"society_id\"]\n",
    "                    code_1 = item[\"code_1\"]\n",
    "                    for item2 in conversion_guide[col]:\n",
    "                        if int(item2[\"code_1\"])==code_1 and item2[\"code_2\"]==None and item2[\"code_3\"]==None:\n",
    "                            df.loc[i,col] = item2[\"display_code\"]"
   ]
  },
  {
   "cell_type": "code",
   "execution_count": 136,
   "metadata": {},
   "outputs": [],
   "source": [
    "for i in range(len(df)):\n",
    "    convert(df[i:(i+1)],i)"
   ]
  },
  {
   "cell_type": "code",
   "execution_count": 138,
   "metadata": {},
   "outputs": [],
   "source": [
    "for i, row in df.iterrows():\n",
    "    culture = row['Preferred_name']\n",
    "    try:\n",
    "        lat = metadata[metadata['Preferred_name']==culture].reset_index()['Local_latitude'][0]\n",
    "        lng = metadata[metadata['Preferred_name']==culture].reset_index()['Local_longitude'][0]\n",
    "    except:\n",
    "        df.drop([i])\n",
    "    df.loc[i, ['lat']] = lat\n",
    "    df.loc[i, ['lng']] = lng"
   ]
  },
  {
   "cell_type": "code",
   "execution_count": 141,
   "metadata": {},
   "outputs": [],
   "source": [
    "df.to_csv('./output/single_modal_profile.csv')"
   ]
  },
  {
   "cell_type": "code",
   "execution_count": null,
   "metadata": {},
   "outputs": [],
   "source": []
  }
 ],
 "metadata": {
  "kernelspec": {
   "display_name": "Python 3",
   "language": "python",
   "name": "python3"
  },
  "language_info": {
   "codemirror_mode": {
    "name": "ipython",
    "version": 3
   },
   "file_extension": ".py",
   "mimetype": "text/x-python",
   "name": "python",
   "nbconvert_exporter": "python",
   "pygments_lexer": "ipython3",
   "version": "3.8.4"
  }
 },
 "nbformat": 4,
 "nbformat_minor": 1
}
